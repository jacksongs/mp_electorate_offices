{
 "cells": [
  {
   "cell_type": "code",
   "execution_count": 8,
   "metadata": {
    "collapsed": false
   },
   "outputs": [],
   "source": [
    "from bs4 import BeautifulSoup\n",
    "import requests\n",
    "import scraperwiki"
   ]
  },
  {
   "cell_type": "code",
   "execution_count": 44,
   "metadata": {
    "collapsed": false
   },
   "outputs": [
    {
     "name": "stdout",
     "output_type": "stream",
     "text": [
      "http://www.aph.gov.au/Senators_and_Members/Parliamentarian_Search_Results?page=1&expand=1&q=&mem=1&par=-1&gen=0&ps=100&st=1\n"
     ]
    },
    {
     "name": "stderr",
     "output_type": "stream",
     "text": [
      "/Users/jacksongs/anaconda3/lib/python3.5/site-packages/bs4/__init__.py:181: UserWarning: No parser was explicitly specified, so I'm using the best available HTML parser for this system (\"lxml\"). This usually isn't a problem, but if you run this code on another system, or in a different virtual environment, it may use a different parser and behave differently.\n",
      "\n",
      "The code that caused this warning is on line 184 of the file /Users/jacksongs/anaconda3/lib/python3.5/runpy.py. To get rid of this warning, change code that looks like this:\n",
      "\n",
      " BeautifulSoup([your markup])\n",
      "\n",
      "to this:\n",
      "\n",
      " BeautifulSoup([your markup], \"lxml\")\n",
      "\n",
      "  markup_type=markup_type))\n"
     ]
    },
    {
     "name": "stdout",
     "output_type": "stream",
     "text": [
      "http://www.aph.gov.au/Senators_and_Members/Parliamentarian_Search_Results?page=2&expand=1&q=&mem=1&par=-1&gen=0&ps=100&st=1\n"
     ]
    }
   ],
   "source": [
    "pages = ['http://www.aph.gov.au/Senators_and_Members/Parliamentarian_Search_Results?page=1&expand=1&q=&mem=1&par=-1&gen=0&ps=100&st=1',\n",
    "        'http://www.aph.gov.au/Senators_and_Members/Parliamentarian_Search_Results?page=2&expand=1&q=&mem=1&par=-1&gen=0&ps=100&st=1']\n",
    "\n",
    "basedata = []\n",
    "\n",
    "for page in pages:\n",
    "    print(page)\n",
    "    soup = BeautifulSoup(requests.get(page).content)\n",
    "    maindiv = soup.find('div',class_='search-filter-results')\n",
    "    entries = maindiv.find_all('div',class_='row')\n",
    "    for e in entries:\n",
    "        row = {}\n",
    "        dts = e.find_all('dt')\n",
    "        dds = e.find_all('dd')\n",
    "        row['name'] = e.find_all('a')[1].text\n",
    "        row['link'] = e.find_all('a')[1].get('href')\n",
    "        counter = 0\n",
    "        while counter<len(dts):\n",
    "            if dts[counter].text.strip() != 'Connect':\n",
    "                row[dts[counter].text] = dds[counter].text\n",
    "            counter+=1\n",
    "        basedata.append(row)"
   ]
  },
  {
   "cell_type": "code",
   "execution_count": 51,
   "metadata": {
    "collapsed": false
   },
   "outputs": [
    {
     "name": "stderr",
     "output_type": "stream",
     "text": [
      "/Users/jacksongs/anaconda3/lib/python3.5/site-packages/bs4/__init__.py:181: UserWarning: No parser was explicitly specified, so I'm using the best available HTML parser for this system (\"lxml\"). This usually isn't a problem, but if you run this code on another system, or in a different virtual environment, it may use a different parser and behave differently.\n",
      "\n",
      "The code that caused this warning is on line 184 of the file /Users/jacksongs/anaconda3/lib/python3.5/runpy.py. To get rid of this warning, change code that looks like this:\n",
      "\n",
      " BeautifulSoup([your markup])\n",
      "\n",
      "to this:\n",
      "\n",
      " BeautifulSoup([your markup], \"lxml\")\n",
      "\n",
      "  markup_type=markup_type))\n"
     ]
    }
   ],
   "source": [
    "offices = []\n",
    "for b in basedata:\n",
    "    page = requests.get('http://aph.gov.au'+b['link'])\n",
    "    soup = BeautifulSoup(page.content)\n",
    "    details = soup.find('div',id='panel21')\n",
    "    address = details.find_all('p')\n",
    "    for i,a in enumerate(address):\n",
    "        if i % 2 == 0:\n",
    "            b2 = b.copy()\n",
    "            b2['address'] = a.text.strip()\n",
    "            b2['office'] = i/2 + 1\n",
    "            offices.append(b2)\n"
   ]
  },
  {
   "cell_type": "code",
   "execution_count": 54,
   "metadata": {
    "collapsed": false
   },
   "outputs": [
    {
     "ename": "AttributeError",
     "evalue": "module 'scraperwiki' has no attribute 'sqlite'",
     "output_type": "error",
     "traceback": [
      "\u001b[0;31m---------------------------------------------------------------------------\u001b[0m",
      "\u001b[0;31mAttributeError\u001b[0m                            Traceback (most recent call last)",
      "\u001b[0;32m<ipython-input-54-71bdb8fa175d>\u001b[0m in \u001b[0;36m<module>\u001b[0;34m()\u001b[0m\n\u001b[0;32m----> 1\u001b[0;31m \u001b[0mscraperwiki\u001b[0m\u001b[0;34m.\u001b[0m\u001b[0msqlite\u001b[0m\u001b[0;34m.\u001b[0m\u001b[0msave\u001b[0m\u001b[0;34m(\u001b[0m\u001b[0munique_keys\u001b[0m\u001b[0;34m=\u001b[0m\u001b[0;34m''\u001b[0m\u001b[0;34m,\u001b[0m\u001b[0mdata\u001b[0m\u001b[0;34m=\u001b[0m\u001b[0moffices\u001b[0m\u001b[0;34m,\u001b[0m\u001b[0mtable_name\u001b[0m\u001b[0;34m=\u001b[0m\u001b[0;34m'offices'\u001b[0m\u001b[0;34m)\u001b[0m\u001b[0;34m\u001b[0m\u001b[0m\n\u001b[0m",
      "\u001b[0;31mAttributeError\u001b[0m: module 'scraperwiki' has no attribute 'sqlite'"
     ]
    }
   ],
   "source": [
    "scraperwiki.sqlite.save(unique_keys='',data=offices,table_name='offices')"
   ]
  },
  {
   "cell_type": "code",
   "execution_count": null,
   "metadata": {
    "collapsed": true
   },
   "outputs": [],
   "source": []
  }
 ],
 "metadata": {
  "anaconda-cloud": {},
  "kernelspec": {
   "display_name": "Python [default]",
   "language": "python",
   "name": "python3"
  },
  "language_info": {
   "codemirror_mode": {
    "name": "ipython",
    "version": 3
   },
   "file_extension": ".py",
   "mimetype": "text/x-python",
   "name": "python",
   "nbconvert_exporter": "python",
   "pygments_lexer": "ipython3",
   "version": "3.5.2"
  }
 },
 "nbformat": 4,
 "nbformat_minor": 1
}
